{
 "cells": [
  {
   "cell_type": "code",
   "execution_count": 14,
   "id": "74d37713",
   "metadata": {
    "scrolled": false
   },
   "outputs": [
    {
     "name": "stdout",
     "output_type": "stream",
     "text": [
      "Which gene are you looking for (DRB1 e CD14):DRB1\n"
     ]
    },
    {
     "ename": "IndexError",
     "evalue": "list index out of range",
     "output_type": "error",
     "traceback": [
      "\u001b[1;31m---------------------------------------------------------------------------\u001b[0m",
      "\u001b[1;31mIndexError\u001b[0m                                Traceback (most recent call last)",
      "Cell \u001b[1;32mIn[14], line 14\u001b[0m\n\u001b[0;32m     11\u001b[0m         \u001b[38;5;28mprint\u001b[39m(error)\n\u001b[0;32m     13\u001b[0m f \u001b[38;5;241m=\u001b[39m \u001b[38;5;28mopen\u001b[39m(\u001b[38;5;124mf\u001b[39m\u001b[38;5;124m\"\u001b[39m\u001b[38;5;132;01m{\u001b[39;00mx\u001b[38;5;132;01m}\u001b[39;00m\u001b[38;5;124m_UniProt.txt\u001b[39m\u001b[38;5;124m\"\u001b[39m)\n\u001b[1;32m---> 14\u001b[0m info \u001b[38;5;241m=\u001b[39m sp\u001b[38;5;241m.\u001b[39mread(f)\n\u001b[0;32m     15\u001b[0m \u001b[38;5;28mprint\u001b[39m(\u001b[38;5;124mf\u001b[39m\u001b[38;5;124m\"\u001b[39m\u001b[38;5;124m>\u001b[39m\u001b[38;5;132;01m{\u001b[39;00minfo\u001b[38;5;241m.\u001b[39mentry_name\u001b[38;5;132;01m}\u001b[39;00m\u001b[38;5;124m | \u001b[39m\u001b[38;5;132;01m{\u001b[39;00minfo\u001b[38;5;241m.\u001b[39morganism\u001b[38;5;132;01m}\u001b[39;00m\u001b[38;5;124m\"\u001b[39m)\n\u001b[0;32m     16\u001b[0m \u001b[38;5;28mprint\u001b[39m(info\u001b[38;5;241m.\u001b[39msequence)\n",
      "File \u001b[1;32m~\\anaconda3\\Lib\\site-packages\\Bio\\SwissProt\\__init__.py:257\u001b[0m, in \u001b[0;36mread\u001b[1;34m(source)\u001b[0m\n\u001b[0;32m    255\u001b[0m handle \u001b[38;5;241m=\u001b[39m _open(source)\n\u001b[0;32m    256\u001b[0m \u001b[38;5;28;01mtry\u001b[39;00m:\n\u001b[1;32m--> 257\u001b[0m     record \u001b[38;5;241m=\u001b[39m _read(handle)\n\u001b[0;32m    258\u001b[0m     \u001b[38;5;28;01mif\u001b[39;00m \u001b[38;5;129;01mnot\u001b[39;00m record:\n\u001b[0;32m    259\u001b[0m         \u001b[38;5;28;01mraise\u001b[39;00m \u001b[38;5;167;01mValueError\u001b[39;00m(\u001b[38;5;124m\"\u001b[39m\u001b[38;5;124mNo SwissProt record found\u001b[39m\u001b[38;5;124m\"\u001b[39m)\n",
      "File \u001b[1;32m~\\anaconda3\\Lib\\site-packages\\Bio\\SwissProt\\__init__.py:371\u001b[0m, in \u001b[0;36m_read\u001b[1;34m(handle)\u001b[0m\n\u001b[0;32m    369\u001b[0m     _read_kw(record, value)\n\u001b[0;32m    370\u001b[0m \u001b[38;5;28;01melif\u001b[39;00m key \u001b[38;5;241m==\u001b[39m \u001b[38;5;124m\"\u001b[39m\u001b[38;5;124mFT\u001b[39m\u001b[38;5;124m\"\u001b[39m:\n\u001b[1;32m--> 371\u001b[0m     _read_ft(record, line)\n\u001b[0;32m    372\u001b[0m \u001b[38;5;28;01melif\u001b[39;00m key \u001b[38;5;241m==\u001b[39m \u001b[38;5;124m\"\u001b[39m\u001b[38;5;124mSQ\u001b[39m\u001b[38;5;124m\"\u001b[39m:\n\u001b[0;32m    373\u001b[0m     cols \u001b[38;5;241m=\u001b[39m value\u001b[38;5;241m.\u001b[39msplit()\n",
      "File \u001b[1;32m~\\anaconda3\\Lib\\site-packages\\Bio\\SwissProt\\__init__.py:830\u001b[0m, in \u001b[0;36m_read_ft\u001b[1;34m(record, line)\u001b[0m\n\u001b[0;32m    828\u001b[0m \u001b[38;5;66;03m# this line is a continuation of the description of the previous feature\u001b[39;00m\n\u001b[0;32m    829\u001b[0m keys \u001b[38;5;241m=\u001b[39m \u001b[38;5;28mlist\u001b[39m(feature\u001b[38;5;241m.\u001b[39mqualifiers\u001b[38;5;241m.\u001b[39mkeys())\n\u001b[1;32m--> 830\u001b[0m key \u001b[38;5;241m=\u001b[39m keys[\u001b[38;5;241m-\u001b[39m\u001b[38;5;241m1\u001b[39m]\n\u001b[0;32m    831\u001b[0m description \u001b[38;5;241m=\u001b[39m value\u001b[38;5;241m.\u001b[39mrstrip(\u001b[38;5;124m'\u001b[39m\u001b[38;5;124m\"\u001b[39m\u001b[38;5;124m'\u001b[39m)\n\u001b[0;32m    832\u001b[0m old_description \u001b[38;5;241m=\u001b[39m feature\u001b[38;5;241m.\u001b[39mqualifiers[key]\n",
      "\u001b[1;31mIndexError\u001b[0m: list index out of range"
     ]
    }
   ],
   "source": [
    "from Bio import ExPASy\n",
    "import Bio.SwissProt as sp\n",
    "\n",
    "while True:\n",
    "    try:\n",
    "        x = input(\"Which gene are you looking for (DRB1 e CD14):\")\n",
    "        if x not in [\"DRB1\", \"CD14\"]: \n",
    "            raise ValueError(\"Inserted gene not valid!\")\n",
    "        break\n",
    "    except ValueError as error:\n",
    "        print(error)\n",
    "\n",
    "f = open(f\"{x}_UniProt.txt\")\n",
    "info = sp.read(f)\n",
    "print(f\">{info.entry_name} | {info.organism}\")\n",
    "print(info.sequence)\n",
    "\n",
    "taxonomia = ''.join(f\"{m} | \" for m in info.organism_classification)\n",
    "print(f\"\\nTAXONOMY: {taxonomia[:-2]}\")\n",
    "print(f\"SEQUENCE LENGHT: {info.sequence_length}\")\n",
    "\n",
    "#print(info.comments)\n",
    "for member in info.comments:\n",
    "    x = member.find(\"SIMILARITY\")\n",
    "    y = member.find(\"FUNCTION\")\n",
    "    z = member.find(\"SUBCELLULAR LOCATION\")\n",
    "    k = member.find (\"DOMAIN\")\n",
    "    n = member.find (\"PTM\")\n",
    "    o = member.find (\"TISSUE SPECIFICITY\")\n",
    "    i = member.find (\"SUBUNIT\")\n",
    "   #p = member.find (\"DEVELOPMENTAL STAGE\")\n",
    "\n",
    "# member.find é uma função \"find\" que procurar um determinado elemento ou valor dentro de uma coleção, como uma lista,\n",
    "# um array ou um objeto.\n",
    "\n",
    "# member.split(\"{\") é uma função \"split\" que serve para dividir a variável \"member\" numa lista de substrings. Por sua vez, \n",
    "# o resultado é armazenado na variável \"função\".\n",
    "        \n",
    "    if y != -1: \n",
    "        function = member.split(\"{\")\n",
    "        print(function[0])\n",
    "    if x != -1: \n",
    "        similarity = member.split(\"{\")\n",
    "        print(similarity[0])\n",
    "    if z != -1:\n",
    "        sub_location = member.split(\"{\")\n",
    "        print(sub_location[0])\n",
    "    if k != -1:\n",
    "        domain = member.split(\"{\")\n",
    "        print(domain[0])\n",
    "    if n != -1:\n",
    "        ptm= member.split(\"{\")\n",
    "        print(ptm[0])\n",
    "    if o != -1:\n",
    "        ex= member.split(\"{\")\n",
    "        print(ex[0])\n",
    "    if i != -1:\n",
    "        inter= member.split(\"{\")\n",
    "        print(inter[0])\n",
    "  \n",
    "\n",
    "keywords = ''.join(f\"{m} | \" for m in info.keywords)\n",
    "print(f\"KEYWORDS: {keywords}\")"
   ]
  },
  {
   "cell_type": "code",
   "execution_count": null,
   "id": "38be3928",
   "metadata": {},
   "outputs": [],
   "source": []
  },
  {
   "cell_type": "code",
   "execution_count": null,
   "id": "6a8208f5",
   "metadata": {},
   "outputs": [],
   "source": [
    "#modificações pós-tradução no padlet"
   ]
  },
  {
   "cell_type": "code",
   "execution_count": null,
   "id": "fa46d951",
   "metadata": {},
   "outputs": [],
   "source": []
  },
  {
   "cell_type": "code",
   "execution_count": null,
   "id": "a65c91d9",
   "metadata": {},
   "outputs": [],
   "source": []
  }
 ],
 "metadata": {
  "kernelspec": {
   "display_name": "Python 3 (ipykernel)",
   "language": "python",
   "name": "python3"
  },
  "language_info": {
   "codemirror_mode": {
    "name": "ipython",
    "version": 3
   },
   "file_extension": ".py",
   "mimetype": "text/x-python",
   "name": "python",
   "nbconvert_exporter": "python",
   "pygments_lexer": "ipython3",
   "version": "3.11.4"
  }
 },
 "nbformat": 4,
 "nbformat_minor": 5
}
