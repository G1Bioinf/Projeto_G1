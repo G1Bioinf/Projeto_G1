{
 "cells": [
  {
   "cell_type": "code",
   "execution_count": 3,
   "id": "1a339995",
   "metadata": {},
   "outputs": [],
   "source": [
    "from Bio.Blast import NCBIXML \n",
    "from Bio.Blast import NCBIWWW \n",
    "from Bio import SeqIO"
   ]
  },
  {
   "cell_type": "code",
   "execution_count": 5,
   "id": "9c95e10a",
   "metadata": {},
   "outputs": [
    {
     "name": "stdout",
     "output_type": "stream",
     "text": [
      "375\n"
     ]
    }
   ],
   "source": [
    "#CD14, Uniprot\n",
    "seq_CD14 = SeqIO.read(open(\"seq-CD14.txt\"), format=\"fasta\") \n",
    "print (len(seq_CD14.seq)) #usa-se a sequência da proteína"
   ]
  },
  {
   "cell_type": "code",
   "execution_count": 6,
   "id": "b939e464",
   "metadata": {},
   "outputs": [],
   "source": [
    "#genes homologos- pesquisa específica na base de dados swissprot. \n",
    "#1º vai buscar proteinas ao blastp, 2º vai a base de dados swissprot, 3ºvai buscar ficheiro seq_gli2 formato fasta\n",
    "result_handle = NCBIWWW.qblast(\"blastp\", \"swissprot\", seq_CD14.format(\"fasta\"))"
   ]
  },
  {
   "cell_type": "code",
   "execution_count": 7,
   "id": "49e45141",
   "metadata": {},
   "outputs": [],
   "source": [
    "save_file = open(\"BLAST_CD14.xml\", \"w\")\n",
    "save_file.write(result_handle.read()) \n",
    "save_file.close() \n",
    "result_handle.close()"
   ]
  },
  {
   "cell_type": "code",
   "execution_count": 11,
   "id": "b2e51615",
   "metadata": {},
   "outputs": [],
   "source": [
    "result_handle = open(\"BLAST_CD14.xml\")\n",
    "record = NCBIXML.read(result_handle)"
   ]
  },
  {
   "cell_type": "code",
   "execution_count": 12,
   "id": "eb315802",
   "metadata": {},
   "outputs": [
    {
     "name": "stdout",
     "output_type": "stream",
     "text": [
      "PARAMETERS:\n",
      "Database: swissprot\n",
      "Matrix: BLOSUM62\n",
      "Gap penalties:  (11, 1)\n"
     ]
    }
   ],
   "source": [
    "print (\"PARAMETERS:\")\n",
    "print (\"Database: \" + record.database)\n",
    "print (\"Matrix: \" + record.matrix)\n",
    "print (\"Gap penalties: \", record.gap_penalties)"
   ]
  },
  {
   "cell_type": "code",
   "execution_count": 13,
   "id": "868407b4",
   "metadata": {},
   "outputs": [
    {
     "name": "stdout",
     "output_type": "stream",
     "text": [
      "Accession: P08571\n",
      "Hit id: sp|P08571.2|\n",
      "Definition: RecName: Full=Monocyte differentiation antigen CD14; AltName: Full=Myeloid cell-specific leucine-rich glycoprotein; AltName: CD_antigen=CD14; Contains: RecName: Full=Monocyte differentiation antigen CD14, urinary form; Contains: RecName: Full=Monocyte differentiation antigen CD14, membrane-bound form; Flags: Precursor [Homo sapiens]\n",
      "Number of HSPs:  1\n",
      "E-value:  0.0\n",
      "Length:  375\n",
      "Identities:  375\n",
      "Query start:  1\n",
      "Sbjct start:  1\n",
      "MERASCLLLLLLPLVHVSATTPEPCELDDEDFRCVCNFSEPQPDWSEAFQCVSAVEVEIHAGGLNLEPFLKRVDADADPRQYADTVKALRVRRLTVGAAQVPAQLLVGALRVLAYSRLKELTLEDLKITGTMPPLPLEATGLALSSLRLRNVSWATGRSWLAELQQWLKPGLKVLSIAQAHSPAFSCEQVRAFPALTSLDLSDNPGLGERGLMAALCPHKFPAIQNLALRNTGMETPTGVCAALAAAGVQPHSLDLSHNSLRATVNPSAPRCMWSSALNSLNLSFAGLEQVPKGLPAKLRVLDLSCNRLNRAPQPDELPEVDNLTLDGNPFLVPGTALPHEGSMNSGVVPACARSTLSVGVSGTLVLLQGARGFA\n",
      "MERASCLLLLLLPLVHVSATTPEPCELDDEDFRCVCNFSEPQPDWSEAFQCVSAVEVEIHAGGLNLEPFLKRVDADADPRQYADTVKALRVRRLTVGAAQVPAQLLVGALRVLAYSRLKELTLEDLKITGTMPPLPLEATGLALSSLRLRNVSWATGRSWLAELQQWLKPGLKVLSIAQAHSPAFSCEQVRAFPALTSLDLSDNPGLGERGLMAALCPHKFPAIQNLALRNTGMETPTGVCAALAAAGVQPHSLDLSHNSLRATVNPSAPRCMWSSALNSLNLSFAGLEQVPKGLPAKLRVLDLSCNRLNRAPQPDELPEVDNLTLDGNPFLVPGTALPHEGSMNSGVVPACARSTLSVGVSGTLVLLQGARGFA\n",
      "MERASCLLLLLLPLVHVSATTPEPCELDDEDFRCVCNFSEPQPDWSEAFQCVSAVEVEIHAGGLNLEPFLKRVDADADPRQYADTVKALRVRRLTVGAAQVPAQLLVGALRVLAYSRLKELTLEDLKITGTMPPLPLEATGLALSSLRLRNVSWATGRSWLAELQQWLKPGLKVLSIAQAHSPAFSCEQVRAFPALTSLDLSDNPGLGERGLMAALCPHKFPAIQNLALRNTGMETPTGVCAALAAAGVQPHSLDLSHNSLRATVNPSAPRCMWSSALNSLNLSFAGLEQVPKGLPAKLRVLDLSCNRLNRAPQPDELPEVDNLTLDGNPFLVPGTALPHEGSMNSGVVPACARSTLSVGVSGTLVLLQGARGFA\n",
      "\n"
     ]
    }
   ],
   "source": [
    "#perguntar porque query é 1, aqui vai buscar o primeiro alinhamento é preciso ir buscar para mais \n",
    "\n",
    "result_handle2 = open(\"BLAST_CD14.xml\")\n",
    "record2 = NCBIXML.read(result_handle2)\n",
    "\n",
    "first_alignment = record2.alignments[0]\n",
    "\n",
    "print (\"Accession: \" + first_alignment.accession)\n",
    "print (\"Hit id: \" + first_alignment.hit_id)\n",
    "print (\"Definition: \" + first_alignment.hit_def)\n",
    "\n",
    "print (\"Number of HSPs: \", len(first_alignment.hsps))\n",
    "\n",
    "for hsp in first_alignment.hsps:\n",
    "    print (\"E-value: \", hsp.expect)\n",
    "    print (\"Length: \", hsp.align_length)\n",
    "    print (\"Identities: \", hsp.identities)\n",
    "    print (\"Query start: \", hsp.query_start)\n",
    "    print (\"Sbjct start: \", hsp.sbjct_start)\n",
    "    print (hsp.query[0:1586])\n",
    "    print (hsp.match[0:1586])\n",
    "    print (hsp.sbjct[0:1586])\n",
    "    print (\"\")"
   ]
  },
  {
   "cell_type": "code",
   "execution_count": null,
   "id": "a50dde57",
   "metadata": {},
   "outputs": [],
   "source": []
  }
 ],
 "metadata": {
  "kernelspec": {
   "display_name": "Python 3 (ipykernel)",
   "language": "python",
   "name": "python3"
  },
  "language_info": {
   "codemirror_mode": {
    "name": "ipython",
    "version": 3
   },
   "file_extension": ".py",
   "mimetype": "text/x-python",
   "name": "python",
   "nbconvert_exporter": "python",
   "pygments_lexer": "ipython3",
   "version": "3.11.4"
  }
 },
 "nbformat": 4,
 "nbformat_minor": 5
}
