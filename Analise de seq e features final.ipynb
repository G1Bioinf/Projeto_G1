{
 "cells": [
  {
   "cell_type": "code",
   "execution_count": 4,
   "id": "e199a809",
   "metadata": {},
   "outputs": [],
   "source": [
    "from Bio import Seq\n",
    "from Bio import SeqIO"
   ]
  },
  {
   "cell_type": "code",
   "execution_count": 6,
   "id": "c3768791",
   "metadata": {},
   "outputs": [
    {
     "data": {
      "text/plain": [
       "SeqRecord(seq=Seq('CCTATAACTTGGAATGTGGGTGGAGGGGTTCATAGTTCTCCCTGAGTGAGACTT...AAA'), id='NG_029921.1', name='NG_029921', description='Homo sapiens major histocompatibility complex, class II, DR beta 1 (HLA-DRB1), RefSeqGene on chromosome 6', dbxrefs=[])"
      ]
     },
     "execution_count": 6,
     "metadata": {},
     "output_type": "execute_result"
    }
   ],
   "source": [
    "#Gene HLA-DRB1\n",
    "H=SeqIO.read(\"sequence-HLA-DRB1.gb\", \"genbank\")\n",
    "H"
   ]
  },
  {
   "cell_type": "code",
   "execution_count": 7,
   "id": "f8d102fe",
   "metadata": {},
   "outputs": [
    {
     "data": {
      "text/plain": [
       "SeqRecord(seq=Seq('AATTCTACCCCCCTTGGTGCCAACAGATGAGGTTCACAATCTCTTCCACAAAAC...ACG'), id='NC_000005.10', name='NC_000005', description='Homo sapiens chromosome 5, GRCh38.p14 Primary Assembly', dbxrefs=['BioProject:PRJNA168', 'Assembly:GCF_000001405.40'])"
      ]
     },
     "execution_count": 7,
     "metadata": {},
     "output_type": "execute_result"
    }
   ],
   "source": [
    "#Gene CD14\n",
    "C=SeqIO.read(\"sequence-CD14.gb\",\"genbank\")\n",
    "C"
   ]
  },
  {
   "cell_type": "code",
   "execution_count": 18,
   "id": "2c03cb94",
   "metadata": {},
   "outputs": [
    {
     "name": "stdout",
     "output_type": "stream",
     "text": [
      "Gene HLA-DRB1 {'molecule_type': 'DNA', 'topology': 'linear', 'data_file_division': 'PRI', 'date': '31-AUG-2020', 'accessions': ['NG_029921', 'REGION:', '5001..18403'], 'sequence_version': 1, 'keywords': ['RefSeq', 'RefSeqGene'], 'source': 'Homo sapiens (human)', 'organism': 'Homo sapiens', 'taxonomy': ['Eukaryota', 'Metazoa', 'Chordata', 'Craniata', 'Vertebrata', 'Euteleostomi', 'Mammalia', 'Eutheria', 'Euarchontoglires', 'Primates', 'Haplorrhini', 'Catarrhini', 'Hominidae', 'Homo'], 'comment': 'REVIEWED REFSEQ: This record has been curated by NCBI staff. The\\nreference sequence was derived from Z84489.1.\\nThis sequence is a reference standard in the RefSeqGene project.\\nSummary: HLA-DRB1 belongs to the HLA class II beta chain paralogs.\\nThe class II molecule is a heterodimer consisting of an alpha (DRA)\\nand a beta chain (DRB), both anchored in the membrane. It plays a\\ncentral role in the immune system by presenting peptides derived\\nfrom extracellular proteins. Class II molecules are expressed in\\nantigen presenting cells. The beta chain is approximately 26-28\\nkDa. It is encoded by 6 exons. Exon one encodes the leader peptide;\\nexons 2 and 3 encode the two extracellular domains; exon 4 encodes\\nthe transmembrane domain; and exon 5 encodes the cytoplasmic tail.\\nWithin the DR molecule the beta chain contains all the\\npolymorphisms specifying the peptide binding specificities.\\nHundreds of DRB1 alleles have been described and some alleles have\\nincreased frequencies associated with certain diseases or\\nconditions. For example, DRB1*1302 has been related to acute and\\nchronic hepatitis B virus persistence. There are multiple\\npseudogenes of this gene. [provided by RefSeq, Jul 2020].'}\n"
     ]
    }
   ],
   "source": [
    "#Anotações \n",
    "print (\"Gene HLA-DRB1\",H.annotations)"
   ]
  },
  {
   "cell_type": "code",
   "execution_count": null,
   "id": "8db896b5",
   "metadata": {},
   "outputs": [],
   "source": [
    "print (\"Gene CD14\", C.annotations)"
   ]
  },
  {
   "cell_type": "code",
   "execution_count": null,
   "id": "149c8ff7",
   "metadata": {},
   "outputs": [],
   "source": [
    "#Features"
   ]
  },
  {
   "cell_type": "code",
   "execution_count": 19,
   "id": "5cd4fcb4",
   "metadata": {},
   "outputs": [
    {
     "name": "stdout",
     "output_type": "stream",
     "text": [
      "O número de features é:  11\n",
      "Tipo e localização\n",
      "source [0:13403](+)\n",
      "gene [0:13403](+)\n",
      "mRNA join{[0:194](+), [8188:8458](+), [10688:10970](+), [11668:11779](+), [12254:12278](+), [13066:13403](+)}\n",
      "exon [0:194](+)\n",
      "CDS join{[94:194](+), [8188:8458](+), [10688:10970](+), [11668:11779](+), [12254:12278](+), [13066:13080](+)}\n",
      "sig_peptide [94:181](+)\n",
      "exon [8188:8458](+)\n",
      "exon [10688:10970](+)\n",
      "exon [11668:11779](+)\n",
      "exon [12254:12278](+)\n",
      "exon [13066:13403](+)\n"
     ]
    }
   ],
   "source": [
    "#Gene HLA-DRB1\n",
    "print(\"O número de features é: \",len(H.features),)\n",
    "\n",
    "print(\"Tipo e localização\")\n",
    "for f in H.features: \n",
    "    print(f.type, f.location)"
   ]
  },
  {
   "cell_type": "code",
   "execution_count": 20,
   "id": "f19c15bc",
   "metadata": {},
   "outputs": [
    {
     "name": "stdout",
     "output_type": "stream",
     "text": [
      "Índice das sequências codificantes\n",
      "[4]\n"
     ]
    }
   ],
   "source": [
    "print(\"Índice das sequências codificantes\")\n",
    "feat_cds = []\n",
    "for f in range(len(H.features)):\n",
    "    if H.features[f].type == \"CDS\":\n",
    "        feat_cds.append(f)\n",
    "print(feat_cds)"
   ]
  },
  {
   "cell_type": "code",
   "execution_count": null,
   "id": "49b170e5",
   "metadata": {},
   "outputs": [],
   "source": [
    "#Gene CD14\n",
    "print(\"O número de features é: \",len(C.features),)\n",
    "\n",
    "print(\"Tipo e localização\")\n",
    "for f in C.features: \n",
    "    print(f.type, f.location)"
   ]
  },
  {
   "cell_type": "code",
   "execution_count": null,
   "id": "d259f50c",
   "metadata": {},
   "outputs": [],
   "source": [
    "print(\"Índice das sequências codificantes\")\n",
    "feat_cds = []\n",
    "for f in range(len(C.features)):\n",
    "    if C.features[f].type == \"CDS\":\n",
    "        feat_cds.append(f) \n",
    "print(feat_cds)"
   ]
  },
  {
   "cell_type": "code",
   "execution_count": null,
   "id": "56a23d80",
   "metadata": {},
   "outputs": [],
   "source": [
    "#Qualifiers"
   ]
  },
  {
   "cell_type": "code",
   "execution_count": 21,
   "id": "ed6a9fd8",
   "metadata": {},
   "outputs": [
    {
     "name": "stdout",
     "output_type": "stream",
     "text": [
      "Qualifiers de CDS\n",
      "OrderedDict([('gene', ['HLA-DRB1']), ('gene_synonym', ['DRB1; HLA-DR1B; HLA-DRB; SS1']), ('note', ['HLA class II histocompatibility antigen, DR-1 beta chain; lymphocyte antigen DRB1; MHC class II HLA-DR beta 1 chain; human leucocyte antigen DRB1']), ('codon_start', ['1']), ('product', ['major histocompatibility complex, class II, DR beta 1 precursor']), ('protein_id', ['NP_001230894.1']), ('db_xref', ['GeneID:3123', 'HGNC:HGNC:4948', 'MIM:142857']), ('translation', ['MVCLRLPGGSCMAVLTVTLMVLSSPLALAGDTRPRFLEYSTSECHFFNGTERVRYLDRYFHNQEENVRFDSDVGEFRAVTELGRPDAEYWNSQKDLLEQKRGRVDNYCRHNYGVVESFTVQRRVHPKVTVYPSKTQPLQHHNLLVCSVSGFYPGSIEVRWFRNGQEEKTGVVSTGLIHNGDWTFQTLVMLETVPRSGEVYTCQVEHPSVTSPLTVEWRARSESAQSKMLSGVGGFVLGLLFLGAGLFIYFRNQKGHSGLQPRGFLS'])])\n"
     ]
    }
   ],
   "source": [
    "#Gene HLA-DRB1\n",
    "\n",
    "print (\"Qualifiers de CDS\")\n",
    "for f in range (len(H.features)):\n",
    "    if H.features[f].type==\"CDS\":\n",
    "        print (H.features[f].qualifiers)"
   ]
  },
  {
   "cell_type": "code",
   "execution_count": 8,
   "id": "18c514f9",
   "metadata": {},
   "outputs": [
    {
     "name": "stdout",
     "output_type": "stream",
     "text": [
      "Qualifiers de CDS\n",
      "OrderedDict([('gene', ['CD14']), ('note', ['Derived by automated computational analysis using gene prediction method: BestRefSeq.']), ('codon_start', ['1']), ('product', ['monocyte differentiation antigen CD14 precursor']), ('protein_id', ['NP_001167575.1']), ('db_xref', ['CCDS:CCDS4232.1', 'GeneID:929', 'HGNC:HGNC:1628', 'MIM:158120']), ('translation', ['MERASCLLLLLLPLVHVSATTPEPCELDDEDFRCVCNFSEPQPDWSEAFQCVSAVEVEIHAGGLNLEPFLKRVDADADPRQYADTVKALRVRRLTVGAAQVPAQLLVGALRVLAYSRLKELTLEDLKITGTMPPLPLEATGLALSSLRLRNVSWATGRSWLAELQQWLKPGLKVLSIAQAHSPAFSCEQVRAFPALTSLDLSDNPGLGERGLMAALCPHKFPAIQNLALRNTGMETPTGVCAALAAAGVQPHSLDLSHNSLRATVNPSAPRCMWSSALNSLNLSFAGLEQVPKGLPAKLRVLDLSCNRLNRAPQPDELPEVDNLTLDGNPFLVPGTALPHEGSMNSGVVPACARSTLSVGVSGTLVLLQGARGFA'])])\n",
      "OrderedDict([('gene', ['CD14']), ('note', ['Derived by automated computational analysis using gene prediction method: BestRefSeq.']), ('codon_start', ['1']), ('product', ['monocyte differentiation antigen CD14 precursor']), ('protein_id', ['NP_001167576.1']), ('db_xref', ['CCDS:CCDS4232.1', 'GeneID:929', 'HGNC:HGNC:1628', 'MIM:158120']), ('translation', ['MERASCLLLLLLPLVHVSATTPEPCELDDEDFRCVCNFSEPQPDWSEAFQCVSAVEVEIHAGGLNLEPFLKRVDADADPRQYADTVKALRVRRLTVGAAQVPAQLLVGALRVLAYSRLKELTLEDLKITGTMPPLPLEATGLALSSLRLRNVSWATGRSWLAELQQWLKPGLKVLSIAQAHSPAFSCEQVRAFPALTSLDLSDNPGLGERGLMAALCPHKFPAIQNLALRNTGMETPTGVCAALAAAGVQPHSLDLSHNSLRATVNPSAPRCMWSSALNSLNLSFAGLEQVPKGLPAKLRVLDLSCNRLNRAPQPDELPEVDNLTLDGNPFLVPGTALPHEGSMNSGVVPACARSTLSVGVSGTLVLLQGARGFA'])])\n",
      "OrderedDict([('gene', ['CD14']), ('note', ['Derived by automated computational analysis using gene prediction method: BestRefSeq.']), ('codon_start', ['1']), ('product', ['monocyte differentiation antigen CD14 precursor']), ('protein_id', ['NP_000582.1']), ('db_xref', ['CCDS:CCDS4232.1', 'Ensembl:ENSP00000304236.6', 'GeneID:929', 'HGNC:HGNC:1628', 'MIM:158120']), ('translation', ['MERASCLLLLLLPLVHVSATTPEPCELDDEDFRCVCNFSEPQPDWSEAFQCVSAVEVEIHAGGLNLEPFLKRVDADADPRQYADTVKALRVRRLTVGAAQVPAQLLVGALRVLAYSRLKELTLEDLKITGTMPPLPLEATGLALSSLRLRNVSWATGRSWLAELQQWLKPGLKVLSIAQAHSPAFSCEQVRAFPALTSLDLSDNPGLGERGLMAALCPHKFPAIQNLALRNTGMETPTGVCAALAAAGVQPHSLDLSHNSLRATVNPSAPRCMWSSALNSLNLSFAGLEQVPKGLPAKLRVLDLSCNRLNRAPQPDELPEVDNLTLDGNPFLVPGTALPHEGSMNSGVVPACARSTLSVGVSGTLVLLQGARGFA'])])\n",
      "OrderedDict([('gene', ['CD14']), ('note', ['Derived by automated computational analysis using gene prediction method: BestRefSeq.']), ('codon_start', ['1']), ('product', ['monocyte differentiation antigen CD14 precursor']), ('protein_id', ['NP_001035110.1']), ('db_xref', ['CCDS:CCDS4232.1', 'GeneID:929', 'HGNC:HGNC:1628', 'MIM:158120']), ('translation', ['MERASCLLLLLLPLVHVSATTPEPCELDDEDFRCVCNFSEPQPDWSEAFQCVSAVEVEIHAGGLNLEPFLKRVDADADPRQYADTVKALRVRRLTVGAAQVPAQLLVGALRVLAYSRLKELTLEDLKITGTMPPLPLEATGLALSSLRLRNVSWATGRSWLAELQQWLKPGLKVLSIAQAHSPAFSCEQVRAFPALTSLDLSDNPGLGERGLMAALCPHKFPAIQNLALRNTGMETPTGVCAALAAAGVQPHSLDLSHNSLRATVNPSAPRCMWSSALNSLNLSFAGLEQVPKGLPAKLRVLDLSCNRLNRAPQPDELPEVDNLTLDGNPFLVPGTALPHEGSMNSGVVPACARSTLSVGVSGTLVLLQGARGFA'])])\n"
     ]
    }
   ],
   "source": [
    "#Gene CD14\n",
    "\n",
    "print (\"Qualifiers de CDS\")\n",
    "for f in range (len(C.features)):\n",
    "    if C.features[f].type==\"CDS\":\n",
    "        print (C.features[f].qualifiers)"
   ]
  }
 ],
 "metadata": {
  "kernelspec": {
   "display_name": "Python 3 (ipykernel)",
   "language": "python",
   "name": "python3"
  },
  "language_info": {
   "codemirror_mode": {
    "name": "ipython",
    "version": 3
   },
   "file_extension": ".py",
   "mimetype": "text/x-python",
   "name": "python",
   "nbconvert_exporter": "python",
   "pygments_lexer": "ipython3",
   "version": "3.11.4"
  }
 },
 "nbformat": 4,
 "nbformat_minor": 5
}
